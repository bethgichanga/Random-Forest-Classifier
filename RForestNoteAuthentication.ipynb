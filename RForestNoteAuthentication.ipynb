{
 "cells": [
  {
   "cell_type": "code",
   "execution_count": null,
   "id": "eff89462",
   "metadata": {},
   "outputs": [],
   "source": []
  },
  {
   "cell_type": "code",
   "execution_count": 14,
   "id": "e5d1a394",
   "metadata": {},
   "outputs": [],
   "source": [
    "from numpy import array, float32, int32, newaxis\n",
    "from sklearn import model_selection as ms\n",
    "from csv import reader\n",
    "import pandas as pd\n",
    "from cv2 import ml\n"
   ]
  },
  {
   "cell_type": "code",
   "execution_count": 16,
   "id": "04ededeb",
   "metadata": {},
   "outputs": [],
   "source": [
    "#function to load the dataset\n",
    "def load_csv(filename):\n",
    "    file = open(filename, \"rt\")\n",
    "    lines = reader(file)\n",
    "    dataset = list(lines)\n",
    "    return dataset\n",
    "\n",
    "#function to convert a string format into float\n",
    "def str_column_to_float(dataset, column):\n",
    "    for row in dataset:\n",
    "        row[column] = float32(row[column].strip())\n",
    "\n",
    "#load the dataset from the text file\n",
    "data = load_csv(r'C:\\Users\\bethg\\Downloads\\Compressed\\data_banknote.txt')\n",
    "\n",
    "# Convert the dataset string numbers to float\n",
    "for i in range(len(data[0])):\n",
    "    str_column_to_float(data, i)\n",
    " \n",
    " #convert string to array\n",
    "data = array(data)\n",
    "\n",
    "#Separate the dataset samples from the ground truth\n",
    "samples = data[:, :4]\n",
    "target = data[:, -1, newaxis].astype(int32)\n",
    "\n",
    "#Split data into training and testing sets\n",
    "x_train, x_test, y_train, y_test = ms.train_test_split(samples,target,test_size=0.2, random_state=10)\n"
   ]
  },
  {
   "cell_type": "code",
   "execution_count": 17,
   "id": "f4dfb30e",
   "metadata": {},
   "outputs": [
    {
     "name": "stdout",
     "output_type": "stream",
     "text": [
      "Accuracy: 98.54545454545455 %\n"
     ]
    }
   ],
   "source": [
    "#create an empty decision tree\n",
    "rtree = ml.RTrees_create()\n",
    "\n",
    "#Train the decision Tree\n",
    "rtree.train(x_train, ml.ROW_SAMPLE, y_train)\n",
    "\n",
    "#Predict the target lables of the testing data\n",
    "_, y_pred = rtree.predict(x_test)\n",
    "\n",
    "#Compute and print the achieved accuracy\n",
    "accuracy = (sum(y_pred.astype(int32) == y_test) / y_test.size) * 100\n",
    "print('Accuracy:', accuracy[0], '%')"
   ]
  },
  {
   "cell_type": "code",
   "execution_count": 18,
   "id": "f033fbaa",
   "metadata": {},
   "outputs": [],
   "source": [
    "from sklearn.metrics import precision_score, recall_score, f1_score, confusion_matrix\n"
   ]
  },
  {
   "cell_type": "code",
   "execution_count": 19,
   "id": "07881613",
   "metadata": {},
   "outputs": [
    {
     "name": "stdout",
     "output_type": "stream",
     "text": [
      "Precision: 0.968503937007874\n"
     ]
    }
   ],
   "source": [
    "# Precision\n",
    "precision = precision_score(y_test, y_pred)\n",
    "print(\"Precision:\", precision)\n"
   ]
  },
  {
   "cell_type": "code",
   "execution_count": 20,
   "id": "b1c05917",
   "metadata": {},
   "outputs": [
    {
     "name": "stdout",
     "output_type": "stream",
     "text": [
      "Recall: 1.0\n"
     ]
    }
   ],
   "source": [
    "# Recall\n",
    "recall = recall_score(y_test, y_pred)\n",
    "print(\"Recall:\", recall)"
   ]
  },
  {
   "cell_type": "code",
   "execution_count": 21,
   "id": "bb34ba97",
   "metadata": {},
   "outputs": [
    {
     "name": "stdout",
     "output_type": "stream",
     "text": [
      "F1 Score: 0.9839999999999999\n"
     ]
    }
   ],
   "source": [
    "# F1 Score\n",
    "f1 = f1_score(y_test, y_pred)\n",
    "print(\"F1 Score:\", f1)\n"
   ]
  },
  {
   "cell_type": "code",
   "execution_count": 22,
   "id": "b4c88b4a",
   "metadata": {},
   "outputs": [
    {
     "name": "stdout",
     "output_type": "stream",
     "text": [
      "Confusion Matrix:\n",
      "[[148   4]\n",
      " [  0 123]]\n"
     ]
    }
   ],
   "source": [
    "# Confusion Matrix\n",
    "conf_matrix = confusion_matrix(y_test, y_pred)\n",
    "print(\"Confusion Matrix:\")\n",
    "print(conf_matrix)"
   ]
  },
  {
   "cell_type": "code",
   "execution_count": null,
   "id": "6fdf74ec",
   "metadata": {},
   "outputs": [],
   "source": []
  }
 ],
 "metadata": {
  "kernelspec": {
   "display_name": "Python 3 (ipykernel)",
   "language": "python",
   "name": "python3"
  },
  "language_info": {
   "codemirror_mode": {
    "name": "ipython",
    "version": 3
   },
   "file_extension": ".py",
   "mimetype": "text/x-python",
   "name": "python",
   "nbconvert_exporter": "python",
   "pygments_lexer": "ipython3",
   "version": "3.11.4"
  }
 },
 "nbformat": 4,
 "nbformat_minor": 5
}
